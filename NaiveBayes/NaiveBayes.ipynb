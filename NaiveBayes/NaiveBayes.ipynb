{
 "cells": [
  {
   "cell_type": "code",
   "execution_count": 1,
   "metadata": {},
   "outputs": [],
   "source": [
    "#importing libraries\n",
    "import numpy as np\n",
    "import pandas as pd\n",
    "import matplotlib.pyplot as plt\n",
    "import seaborn as sns\n",
    "import random\n",
    "\n",
    "%matplotlib inline"
   ]
  },
  {
   "cell_type": "markdown",
   "metadata": {},
   "source": [
    "# Reading data"
   ]
  },
  {
   "cell_type": "code",
   "execution_count": 2,
   "metadata": {},
   "outputs": [],
   "source": [
    "# Reading testing and training data\n",
    "train = pd.read_csv('datasets/train_AER_credit_card_data.csv')\n",
    "test = pd.read_csv('datasets/test_AER_credit_card_data.csv')\n",
    "\n",
    "# splitting into features and labels for test and train\n",
    "train_x,test_x,train_y,test_y =train[['owner', 'selfemp', 'dependents']],test[['owner', 'selfemp', 'dependents']],train['card'],test['card']"
   ]
  },
  {
   "cell_type": "code",
   "execution_count": 3,
   "metadata": {},
   "outputs": [],
   "source": [
    "class My_NaieveBayes:\n",
    "    def __init__(self,train_X,train_Y):\n",
    "        \n",
    "        \n",
    "        self.train =pd.concat([train_X,train_Y],axis=1)\n",
    "        \n",
    "        # target col name\n",
    "        self.class_col_name = train_Y.name\n",
    "        \n",
    "        # get all column names \n",
    "        self.columns = list(train_X.columns)\n",
    "        \n",
    "        # unique output classes in target\n",
    "        self.output_classes =list(np.unique(train_Y))\n",
    "        \n",
    "        # m estimate\n",
    "        self.m = {} # dictionary of {'col_name': (number of unique class values)}\n",
    "        self.p = {} # dictionary of {'col_name': 1/(number of unique class values)}\n",
    "        for col in self.columns:\n",
    "            \n",
    "            # p = 1/(number of unique class values)\n",
    "            self.p[col] = 1/len(np.unique(self.train[col]))\n",
    "            \n",
    "            # m = (number of unique class values)\n",
    "            self.m[col] = len(np.unique(self.train[col]))\n",
    "            \n",
    "        \n",
    "    def predit(self,test):\n",
    "        \n",
    "        # probablites of for each output class \n",
    "        probablities = []\n",
    "        \n",
    "        # iterate through each output class ['positive','negative']\n",
    "        for class_label in self.output_classes:\n",
    "    \n",
    "            class_col_name =self.class_col_name # 'card'\n",
    "        \n",
    "            # select data belonging to that class label value example: positive\n",
    "            class_df = self.train[self.train[class_col_name]==class_label]\n",
    "            \n",
    "            #claculate prior\n",
    "            prior = (len(class_df))/(len(self.train))\n",
    "            likelihood = 1\n",
    "            for col in self.columns:\n",
    "                Nc = (len(class_df[class_df[col]==test[col]])+(self.p[col]*self.m[col]))\n",
    "                N = (len(class_df)+self.m[col])\n",
    "                likelihood = likelihood * (Nc/N)\n",
    "            \n",
    "            probablities.append(likelihood*prior)\n",
    "        \n",
    "        # return class with max probablity\n",
    "        return self.output_classes[np.argmax(probablities)]\n",
    "        "
   ]
  },
  {
   "cell_type": "code",
   "execution_count": 4,
   "metadata": {},
   "outputs": [],
   "source": [
    "# initialize NaieveBayes\n",
    "model = My_NaieveBayes(train_x,train_y)\n"
   ]
  },
  {
   "cell_type": "code",
   "execution_count": 5,
   "metadata": {},
   "outputs": [
    {
     "data": {
      "text/html": [
       "<div>\n",
       "<style scoped>\n",
       "    .dataframe tbody tr th:only-of-type {\n",
       "        vertical-align: middle;\n",
       "    }\n",
       "\n",
       "    .dataframe tbody tr th {\n",
       "        vertical-align: top;\n",
       "    }\n",
       "\n",
       "    .dataframe thead th {\n",
       "        text-align: right;\n",
       "    }\n",
       "</style>\n",
       "<table border=\"1\" class=\"dataframe\">\n",
       "  <thead>\n",
       "    <tr style=\"text-align: right;\">\n",
       "      <th></th>\n",
       "      <th>owner</th>\n",
       "      <th>selfemp</th>\n",
       "      <th>dependents</th>\n",
       "      <th>card</th>\n",
       "      <th>prediction</th>\n",
       "    </tr>\n",
       "  </thead>\n",
       "  <tbody>\n",
       "    <tr>\n",
       "      <th>0</th>\n",
       "      <td>yes</td>\n",
       "      <td>no</td>\n",
       "      <td>0</td>\n",
       "      <td>positive</td>\n",
       "      <td>positive</td>\n",
       "    </tr>\n",
       "    <tr>\n",
       "      <th>1</th>\n",
       "      <td>yes</td>\n",
       "      <td>no</td>\n",
       "      <td>0</td>\n",
       "      <td>positive</td>\n",
       "      <td>positive</td>\n",
       "    </tr>\n",
       "    <tr>\n",
       "      <th>2</th>\n",
       "      <td>no</td>\n",
       "      <td>no</td>\n",
       "      <td>0</td>\n",
       "      <td>positive</td>\n",
       "      <td>positive</td>\n",
       "    </tr>\n",
       "    <tr>\n",
       "      <th>3</th>\n",
       "      <td>yes</td>\n",
       "      <td>no</td>\n",
       "      <td>2</td>\n",
       "      <td>positive</td>\n",
       "      <td>positive</td>\n",
       "    </tr>\n",
       "    <tr>\n",
       "      <th>4</th>\n",
       "      <td>no</td>\n",
       "      <td>no</td>\n",
       "      <td>0</td>\n",
       "      <td>positive</td>\n",
       "      <td>positive</td>\n",
       "    </tr>\n",
       "  </tbody>\n",
       "</table>\n",
       "</div>"
      ],
      "text/plain": [
       "  owner selfemp  dependents      card prediction\n",
       "0   yes      no           0  positive   positive\n",
       "1   yes      no           0  positive   positive\n",
       "2    no      no           0  positive   positive\n",
       "3   yes      no           2  positive   positive\n",
       "4    no      no           0  positive   positive"
      ]
     },
     "execution_count": 5,
     "metadata": {},
     "output_type": "execute_result"
    }
   ],
   "source": [
    "P=[]\n",
    "# predict for each test instance\n",
    "for i in range(len(test_x)):\n",
    "    P.append(model.predit(test_x.iloc[i]))\n",
    "\n",
    "    \n",
    "pred = pd.concat([test_x,test_y],axis=1)\n",
    "pred['prediction'] = np.array(P)\n",
    "\n",
    "# save as CSV\n",
    "pred.to_csv('predictions.csv')\n",
    "pred.head()\n"
   ]
  },
  {
   "cell_type": "markdown",
   "metadata": {},
   "source": [
    "# Calculating accuracy, sensitivity and specificity"
   ]
  },
  {
   "cell_type": "code",
   "execution_count": 6,
   "metadata": {},
   "outputs": [
    {
     "name": "stdout",
     "output_type": "stream",
     "text": [
      "accuracy:  0.7746212121212122 sensitivity : 0.9975550122249389 specificity : 0.008403361344537815\n"
     ]
    }
   ],
   "source": [
    "TP=0\n",
    "TN=0\n",
    "FP=0\n",
    "FN=0\n",
    "for i in range(len(test_x)):\n",
    "    \n",
    "    if P[i] == 'positive' and test_y.iloc[i]=='positive': # if predicted=positive and actual=postive then inceremt TP\n",
    "        TP+=1\n",
    "    elif P[i] == 'positive' and test_y.iloc[i]=='negative': # if predicted=positive and actual=negative then inceremt FP\n",
    "        FP+=1\n",
    "    elif P[i] == 'negative' and test_y.iloc[i]=='positive':# if predicted=negative and actual=postive then inceremt FN\n",
    "        FN+=1\n",
    "    else:   # if predicted=negative and actual=negative then inceremt TN\n",
    "        TN+=1\n",
    "        \n",
    "# formula\n",
    "accuracy = (TN + TP)/(TN+TP+FN+FP)\n",
    "sensitivity = TP/(TP+FN)\n",
    "specificity = TN/(TN+FP)\n",
    "\n",
    "print('accuracy: ', accuracy, 'sensitivity :',sensitivity, 'specificity :',specificity)"
   ]
  },
  {
   "cell_type": "code",
   "execution_count": 7,
   "metadata": {},
   "outputs": [
    {
     "data": {
      "text/plain": [
       "(1, 408, 1, 118)"
      ]
     },
     "execution_count": 7,
     "metadata": {},
     "output_type": "execute_result"
    }
   ],
   "source": [
    "TN,TP,FN,FP"
   ]
  }
 ],
 "metadata": {
  "kernelspec": {
   "display_name": "Python 3",
   "language": "python",
   "name": "python3"
  },
  "language_info": {
   "codemirror_mode": {
    "name": "ipython",
    "version": 3
   },
   "file_extension": ".py",
   "mimetype": "text/x-python",
   "name": "python",
   "nbconvert_exporter": "python",
   "pygments_lexer": "ipython3",
   "version": "3.7.3"
  }
 },
 "nbformat": 4,
 "nbformat_minor": 4
}
