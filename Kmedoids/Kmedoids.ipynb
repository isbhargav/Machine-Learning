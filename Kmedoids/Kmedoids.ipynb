{
 "cells": [
  {
   "cell_type": "code",
   "execution_count": 1,
   "metadata": {},
   "outputs": [],
   "source": [
    "# importing libraries\n",
    "import numpy as np\n",
    "import pandas as pd\n",
    "import matplotlib.pyplot as plt\n",
    "import seaborn as sns\n",
    "import random\n",
    "\n",
    "%matplotlib inline"
   ]
  },
  {
   "cell_type": "markdown",
   "metadata": {},
   "source": [
    "# Reading Data"
   ]
  },
  {
   "cell_type": "code",
   "execution_count": 2,
   "metadata": {},
   "outputs": [
    {
     "data": {
      "text/html": [
       "<div>\n",
       "<style scoped>\n",
       "    .dataframe tbody tr th:only-of-type {\n",
       "        vertical-align: middle;\n",
       "    }\n",
       "\n",
       "    .dataframe tbody tr th {\n",
       "        vertical-align: top;\n",
       "    }\n",
       "\n",
       "    .dataframe thead th {\n",
       "        text-align: right;\n",
       "    }\n",
       "</style>\n",
       "<table border=\"1\" class=\"dataframe\">\n",
       "  <thead>\n",
       "    <tr style=\"text-align: right;\">\n",
       "      <th></th>\n",
       "      <th>CustomerID</th>\n",
       "      <th>Gender</th>\n",
       "      <th>Age</th>\n",
       "      <th>Annual Income (k$)</th>\n",
       "      <th>Spending Score (1-100)</th>\n",
       "    </tr>\n",
       "  </thead>\n",
       "  <tbody>\n",
       "    <tr>\n",
       "      <th>0</th>\n",
       "      <td>1</td>\n",
       "      <td>Male</td>\n",
       "      <td>19</td>\n",
       "      <td>15</td>\n",
       "      <td>39</td>\n",
       "    </tr>\n",
       "    <tr>\n",
       "      <th>1</th>\n",
       "      <td>2</td>\n",
       "      <td>Male</td>\n",
       "      <td>21</td>\n",
       "      <td>15</td>\n",
       "      <td>81</td>\n",
       "    </tr>\n",
       "    <tr>\n",
       "      <th>2</th>\n",
       "      <td>3</td>\n",
       "      <td>Female</td>\n",
       "      <td>20</td>\n",
       "      <td>16</td>\n",
       "      <td>6</td>\n",
       "    </tr>\n",
       "    <tr>\n",
       "      <th>3</th>\n",
       "      <td>4</td>\n",
       "      <td>Female</td>\n",
       "      <td>23</td>\n",
       "      <td>16</td>\n",
       "      <td>77</td>\n",
       "    </tr>\n",
       "    <tr>\n",
       "      <th>4</th>\n",
       "      <td>5</td>\n",
       "      <td>Female</td>\n",
       "      <td>31</td>\n",
       "      <td>17</td>\n",
       "      <td>40</td>\n",
       "    </tr>\n",
       "  </tbody>\n",
       "</table>\n",
       "</div>"
      ],
      "text/plain": [
       "   CustomerID  Gender  Age  Annual Income (k$)  Spending Score (1-100)\n",
       "0           1    Male   19                  15                      39\n",
       "1           2    Male   21                  15                      81\n",
       "2           3  Female   20                  16                       6\n",
       "3           4  Female   23                  16                      77\n",
       "4           5  Female   31                  17                      40"
      ]
     },
     "execution_count": 2,
     "metadata": {},
     "output_type": "execute_result"
    }
   ],
   "source": [
    "df = pd.read_csv('datasets/Mall_Customers.csv')\n",
    "df.head()"
   ]
  },
  {
   "cell_type": "code",
   "execution_count": 3,
   "metadata": {},
   "outputs": [
    {
     "name": "stdout",
     "output_type": "stream",
     "text": [
      "<class 'pandas.core.frame.DataFrame'>\n",
      "RangeIndex: 200 entries, 0 to 199\n",
      "Data columns (total 5 columns):\n",
      "CustomerID                200 non-null int64\n",
      "Gender                    200 non-null object\n",
      "Age                       200 non-null int64\n",
      "Annual Income (k$)        200 non-null int64\n",
      "Spending Score (1-100)    200 non-null int64\n",
      "dtypes: int64(4), object(1)\n",
      "memory usage: 7.9+ KB\n"
     ]
    }
   ],
   "source": [
    "# dataset information\n",
    "df.info()"
   ]
  },
  {
   "cell_type": "markdown",
   "metadata": {},
   "source": [
    "# Removing Gender because it is Categorical"
   ]
  },
  {
   "cell_type": "code",
   "execution_count": 4,
   "metadata": {},
   "outputs": [],
   "source": [
    "df.drop('Gender',axis=1,inplace=True)"
   ]
  },
  {
   "cell_type": "code",
   "execution_count": 5,
   "metadata": {},
   "outputs": [
    {
     "name": "stdout",
     "output_type": "stream",
     "text": [
      "<class 'pandas.core.frame.DataFrame'>\n",
      "RangeIndex: 200 entries, 0 to 199\n",
      "Data columns (total 4 columns):\n",
      "CustomerID                200 non-null int64\n",
      "Age                       200 non-null int64\n",
      "Annual Income (k$)        200 non-null int64\n",
      "Spending Score (1-100)    200 non-null int64\n",
      "dtypes: int64(4)\n",
      "memory usage: 6.3 KB\n"
     ]
    }
   ],
   "source": [
    "df.info()"
   ]
  },
  {
   "cell_type": "code",
   "execution_count": 6,
   "metadata": {},
   "outputs": [
    {
     "data": {
      "text/html": [
       "<div>\n",
       "<style scoped>\n",
       "    .dataframe tbody tr th:only-of-type {\n",
       "        vertical-align: middle;\n",
       "    }\n",
       "\n",
       "    .dataframe tbody tr th {\n",
       "        vertical-align: top;\n",
       "    }\n",
       "\n",
       "    .dataframe thead th {\n",
       "        text-align: right;\n",
       "    }\n",
       "</style>\n",
       "<table border=\"1\" class=\"dataframe\">\n",
       "  <thead>\n",
       "    <tr style=\"text-align: right;\">\n",
       "      <th></th>\n",
       "      <th>CustomerID</th>\n",
       "      <th>Age</th>\n",
       "      <th>Annual Income (k$)</th>\n",
       "      <th>Spending Score (1-100)</th>\n",
       "    </tr>\n",
       "  </thead>\n",
       "  <tbody>\n",
       "    <tr>\n",
       "      <th>0</th>\n",
       "      <td>1</td>\n",
       "      <td>19</td>\n",
       "      <td>15</td>\n",
       "      <td>39</td>\n",
       "    </tr>\n",
       "    <tr>\n",
       "      <th>1</th>\n",
       "      <td>2</td>\n",
       "      <td>21</td>\n",
       "      <td>15</td>\n",
       "      <td>81</td>\n",
       "    </tr>\n",
       "    <tr>\n",
       "      <th>2</th>\n",
       "      <td>3</td>\n",
       "      <td>20</td>\n",
       "      <td>16</td>\n",
       "      <td>6</td>\n",
       "    </tr>\n",
       "    <tr>\n",
       "      <th>3</th>\n",
       "      <td>4</td>\n",
       "      <td>23</td>\n",
       "      <td>16</td>\n",
       "      <td>77</td>\n",
       "    </tr>\n",
       "    <tr>\n",
       "      <th>4</th>\n",
       "      <td>5</td>\n",
       "      <td>31</td>\n",
       "      <td>17</td>\n",
       "      <td>40</td>\n",
       "    </tr>\n",
       "  </tbody>\n",
       "</table>\n",
       "</div>"
      ],
      "text/plain": [
       "   CustomerID  Age  Annual Income (k$)  Spending Score (1-100)\n",
       "0           1   19                  15                      39\n",
       "1           2   21                  15                      81\n",
       "2           3   20                  16                       6\n",
       "3           4   23                  16                      77\n",
       "4           5   31                  17                      40"
      ]
     },
     "execution_count": 6,
     "metadata": {},
     "output_type": "execute_result"
    }
   ],
   "source": [
    "df.head()"
   ]
  },
  {
   "cell_type": "markdown",
   "metadata": {},
   "source": [
    "# Clustering Algorithm(K-mediod) "
   ]
  },
  {
   "cell_type": "markdown",
   "metadata": {},
   "source": [
    "### Defining Distance metrics"
   ]
  },
  {
   "cell_type": "code",
   "execution_count": 7,
   "metadata": {},
   "outputs": [],
   "source": [
    "# Euclidian distance calculation\n",
    "def dist(p1,p2):\n",
    "    return np.sqrt(np.sum(np.square(p1-p2)))\n",
    "    "
   ]
  },
  {
   "cell_type": "markdown",
   "metadata": {},
   "source": [
    "### Set value of K and genratre disimilarity matrix"
   ]
  },
  {
   "cell_type": "code",
   "execution_count": 8,
   "metadata": {},
   "outputs": [],
   "source": [
    "# value of K (you can change it)\n",
    "K = 5\n",
    "# value of D\n",
    "D = []\n",
    "\n",
    "# Calculating dissimilarity matrix\n",
    "for i in range(len(df)):\n",
    "    dist_lst = []\n",
    "    for j in range(len(df)):\n",
    "        dist_lst.append(dist(df.iloc[i],df.iloc[j]))\n",
    "    D.append(dist_lst)\n",
    "D = np.matrix(D)\n",
    "\n",
    "\n"
   ]
  },
  {
   "cell_type": "code",
   "execution_count": 9,
   "metadata": {},
   "outputs": [
    {
     "data": {
      "text/plain": [
       "200"
      ]
     },
     "execution_count": 9,
     "metadata": {},
     "output_type": "execute_result"
    }
   ],
   "source": [
    "len(df)"
   ]
  },
  {
   "cell_type": "markdown",
   "metadata": {},
   "source": [
    "### Randomly initialize with K random centers "
   ]
  },
  {
   "cell_type": "code",
   "execution_count": 10,
   "metadata": {},
   "outputs": [
    {
     "data": {
      "text/plain": [
       "[27, 46, 172, 83, 104]"
      ]
     },
     "execution_count": 10,
     "metadata": {},
     "output_type": "execute_result"
    }
   ],
   "source": [
    "# Randomly genrate medoids \n",
    "medoids = (random.sample(range(len(df)),K))\n",
    "medoids"
   ]
  },
  {
   "cell_type": "markdown",
   "metadata": {},
   "source": [
    "### Assign each point to nearest medoid"
   ]
  },
  {
   "cell_type": "code",
   "execution_count": 11,
   "metadata": {},
   "outputs": [],
   "source": [
    "P = []  # P contains Cluster Ids [0,K-1]\n",
    "\n",
    "# iterate through each row of dataframe\n",
    "for i in range(len(df)):\n",
    "    \n",
    "    distances_from_medoids = []\n",
    "    # iterate through mediods\n",
    "    for j in medoids:\n",
    "        distances_from_medoids.append(D[i,j])\n",
    "    \n",
    "    P.append(np.argmin(distances_from_medoids))\n",
    "\n"
   ]
  },
  {
   "cell_type": "code",
   "execution_count": 12,
   "metadata": {},
   "outputs": [
    {
     "data": {
      "text/plain": [
       "[21, 42, 168, 77, 122]"
      ]
     },
     "execution_count": 12,
     "metadata": {},
     "output_type": "execute_result"
    }
   ],
   "source": [
    "# setup for 100 iterations\n",
    "for itr in range(100):\n",
    "    #print('initall Clustering ' ,P)\n",
    "\n",
    "    df['Cluster_id'] = P\n",
    "    \n",
    "    #list that will contain new medoids\n",
    "    new_medoids = []\n",
    "    \n",
    "    # selecting medoid for each cluster\n",
    "    for c in range(K):\n",
    "        \n",
    "        #select all points belonging to cluster c =  [0,1,2..,K-1]\n",
    "        cluster_df = df[df['Cluster_id']==c]\n",
    "        \n",
    "        # costlist that will contain cost of each point within cluster\n",
    "        cost_list = []\n",
    "        \n",
    "        for i in range(len(cluster_df)):\n",
    "            cost_i =0\n",
    "            for j in range(len(cluster_df)):\n",
    "                \n",
    "                #index of point i and j in original df to find distance from dissimilarity matrix\n",
    "                idx_i = (cluster_df.iloc[i]).name\n",
    "                idx_j = (cluster_df.iloc[j]).name\n",
    "                cost_i+=D[idx_i,idx_j]\n",
    "                \n",
    "            cost_list.append(cost_i)\n",
    "\n",
    "        # find point with min cost in cost_list, this will be our cluster head\n",
    "        indx = (cluster_df.iloc[np.argmin(cost_list)]).name\n",
    "        \n",
    "        # add new head to medoid list\n",
    "        new_medoids.append(indx)\n",
    "\n",
    "    #print('orignal medoids : ', medoids)\n",
    "    #print('new medoids : ', new_medoids)\n",
    "    \n",
    "    #Check if medoids did change (in this case the clustering will be same so break out)\n",
    "    if np.sum(np.equal(medoids,new_medoids)) == len(medoids):\n",
    "        #if did not change then break\n",
    "        #print('SAME')\n",
    "        break;\n",
    "\n",
    "    # do clustering with new medoids\n",
    "    new_P = []\n",
    "    \n",
    "    # iterate through each row of df\n",
    "    for i in range(len(df)):\n",
    "\n",
    "        distances_from_medoids = []\n",
    "        \n",
    "        # iterate through new medoids\n",
    "        for j in new_medoids:\n",
    "            \n",
    "            distances_from_medoids.append(D[i,j])\n",
    "\n",
    "        new_P.append(np.argmin(distances_from_medoids))\n",
    "\n",
    "    \n",
    "    #print('orignal Clustering ' , P)\n",
    "    #print('new Clustering ',new_P)\n",
    "    \n",
    "    #Check if clustering did not change\n",
    "    if np.sum(np.equal(P,new_P)) == len(P):\n",
    "        # clustering is same\n",
    "        #print('SAME')\n",
    "        break;\n",
    "    else:\n",
    "        # clustering changed hence, assign new clustering\n",
    "        medoids = new_medoids\n",
    "        P = new_P\n",
    "    #print()\n",
    "    \n",
    "medoids"
   ]
  },
  {
   "cell_type": "markdown",
   "metadata": {},
   "source": [
    "# Calculating Average silhouette width"
   ]
  },
  {
   "cell_type": "code",
   "execution_count": 13,
   "metadata": {},
   "outputs": [
    {
     "name": "stdout",
     "output_type": "stream",
     "text": [
      "Average silhouette width :  0.3193334254653304\n"
     ]
    }
   ],
   "source": [
    "# Average silhouette with\n",
    "S=0\n",
    "\n",
    "# iterate through each row in df\n",
    "for i in range(len(df)):\n",
    "    \n",
    "    #calculating a_i\n",
    "    \n",
    "    # select all points belonging to that cluster\n",
    "    a_df = df[df['Cluster_id']==df['Cluster_id'].iloc[i]]\n",
    "    \n",
    "    a_i=0\n",
    "    \n",
    "    # iterate through all points in that cluster\n",
    "    for j in range(len(a_df)):\n",
    "        \n",
    "        #index of point i and j in original df to find distance from dissimilarity matrix\n",
    "        idx_i = (df.iloc[i]).name\n",
    "        idx_j = (a_df.iloc[j]).name\n",
    "        a_i +=D[idx_i,idx_j]\n",
    "        \n",
    "    # a = (distacne from each point in cluster)/(total points in cluster)   \n",
    "    a_i=(a_i/len(a_df))\n",
    "    \n",
    "    # find nearest neighbouring cluster for the point\n",
    "    lst = []\n",
    "    # iterate through each cluster j = [0,1,2,..K-1]\n",
    "    for j in range(len(medoids)):\n",
    "        \n",
    "        # if same cluster than append max value so that it doesnot get selected as nearest neighbouring cluster\n",
    "        if j==df['Cluster_id'].iloc[i]:\n",
    "            lst.append(2**31)\n",
    "        # for other cluster find distance from each point in that cluster\n",
    "        else:\n",
    "            # find all points belonging to cluster j\n",
    "            neigh = df[df['Cluster_id']==j]\n",
    "            c_n=0\n",
    "            for j in range(len(neigh)):\n",
    "                #index of point i and j in original df to find distance from dissimilarity matrix\n",
    "                idx_i = (df.iloc[i]).name\n",
    "                idx_j = (neigh.iloc[j]).name\n",
    "                c_n +=D[idx_i,idx_j]\n",
    "            lst.append(c_n/len(neigh))\n",
    "            \n",
    "    #nearest neighbour cluster_id    \n",
    "    C_neig = np.argmin(lst)\n",
    "    #print(lst[C_neig])\n",
    "    \n",
    "    #calculating b_i\n",
    "    b_i=lst[C_neig]\n",
    "    \n",
    "    #  silhouette width for point i\n",
    "    S_i = (b_i - a_i)/max(b_i,a_i)\n",
    "    #print('Si',S_i)\n",
    "    S+=S_i\n",
    "\n",
    "# average silhouette width\n",
    "S = S/len(df)\n",
    "print(\"Average silhouette width : \",S)\n",
    "\n",
    "        "
   ]
  },
  {
   "cell_type": "markdown",
   "metadata": {},
   "source": [
    "# Save it as .csv file"
   ]
  },
  {
   "cell_type": "code",
   "execution_count": 14,
   "metadata": {},
   "outputs": [],
   "source": [
    "df['Cluster_id'] = P\n",
    "filename = f\"Cluster_{K}.csv\"\n",
    "df.to_csv(filename)"
   ]
  }
 ],
 "metadata": {
  "kernelspec": {
   "display_name": "Python 3",
   "language": "python",
   "name": "python3"
  },
  "language_info": {
   "codemirror_mode": {
    "name": "ipython",
    "version": 3
   },
   "file_extension": ".py",
   "mimetype": "text/x-python",
   "name": "python",
   "nbconvert_exporter": "python",
   "pygments_lexer": "ipython3",
   "version": "3.7.3"
  }
 },
 "nbformat": 4,
 "nbformat_minor": 4
}
